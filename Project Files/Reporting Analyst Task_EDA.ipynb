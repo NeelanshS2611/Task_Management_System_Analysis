{
 "cells": [
  {
   "cell_type": "code",
   "execution_count": 72,
   "metadata": {},
   "outputs": [],
   "source": [
    "# Importing libraries\n",
    "import numpy as np\n",
    "import pandas as pd\n",
    "import matplotlib.pyplot as plt\n",
    "import seaborn as sns"
   ]
  },
  {
   "cell_type": "code",
   "execution_count": 73,
   "metadata": {},
   "outputs": [
    {
     "data": {
      "text/html": [
       "<div>\n",
       "<style scoped>\n",
       "    .dataframe tbody tr th:only-of-type {\n",
       "        vertical-align: middle;\n",
       "    }\n",
       "\n",
       "    .dataframe tbody tr th {\n",
       "        vertical-align: top;\n",
       "    }\n",
       "\n",
       "    .dataframe thead th {\n",
       "        text-align: right;\n",
       "    }\n",
       "</style>\n",
       "<table border=\"1\" class=\"dataframe\">\n",
       "  <thead>\n",
       "    <tr style=\"text-align: right;\">\n",
       "      <th></th>\n",
       "      <th>id</th>\n",
       "      <th>subject</th>\n",
       "      <th>group_id</th>\n",
       "      <th>assigneeName</th>\n",
       "      <th>status</th>\n",
       "      <th>priority</th>\n",
       "      <th>created_at</th>\n",
       "      <th>updated_at</th>\n",
       "      <th>channel</th>\n",
       "      <th>organization_id</th>\n",
       "      <th>Product</th>\n",
       "      <th>Alert Severity</th>\n",
       "      <th>Product Platform</th>\n",
       "      <th>Product Category</th>\n",
       "      <th>Customer First Response (UTC)</th>\n",
       "    </tr>\n",
       "  </thead>\n",
       "  <tbody>\n",
       "    <tr>\n",
       "      <th>0</th>\n",
       "      <td>5437</td>\n",
       "      <td>spam</td>\n",
       "      <td>SRC - L1</td>\n",
       "      <td>John brain</td>\n",
       "      <td>open</td>\n",
       "      <td>NaN</td>\n",
       "      <td>Dec 26, 2023, 01:35 AM</td>\n",
       "      <td>Dec 26, 2023, 01:36 AM</td>\n",
       "      <td>web</td>\n",
       "      <td>Microsoft SRC</td>\n",
       "      <td>NaN</td>\n",
       "      <td>NaN</td>\n",
       "      <td>NaN</td>\n",
       "      <td>NaN</td>\n",
       "      <td>NaN</td>\n",
       "    </tr>\n",
       "    <tr>\n",
       "      <th>1</th>\n",
       "      <td>5436</td>\n",
       "      <td>Infinity - SentinelOne - Black Hash is added/...</td>\n",
       "      <td>SRC - L1</td>\n",
       "      <td>Nir Handa</td>\n",
       "      <td>solved</td>\n",
       "      <td>normal</td>\n",
       "      <td>Dec 26, 2023, 12:57 AM</td>\n",
       "      <td>Dec 26, 2023, 01:00 AM</td>\n",
       "      <td>web</td>\n",
       "      <td>Infinity</td>\n",
       "      <td>generic_/_other__temp</td>\n",
       "      <td>medium</td>\n",
       "      <td>on-prem</td>\n",
       "      <td>endpointsecurityedr</td>\n",
       "      <td>2023-12-26T09:00:33Z</td>\n",
       "    </tr>\n",
       "    <tr>\n",
       "      <th>2</th>\n",
       "      <td>5435</td>\n",
       "      <td>Suspicious email with malicious attachment</td>\n",
       "      <td>SRC - L1</td>\n",
       "      <td>NaN</td>\n",
       "      <td>open</td>\n",
       "      <td>high</td>\n",
       "      <td>Dec 26, 2023, 12:52 AM</td>\n",
       "      <td>Dec 26, 2023, 12:59 AM</td>\n",
       "      <td>web</td>\n",
       "      <td>Bosch</td>\n",
       "      <td>NaN</td>\n",
       "      <td>NaN</td>\n",
       "      <td>NaN</td>\n",
       "      <td>NaN</td>\n",
       "      <td>NaN</td>\n",
       "    </tr>\n",
       "    <tr>\n",
       "      <th>3</th>\n",
       "      <td>5433</td>\n",
       "      <td>Honda - GCP GKE - User Attempts Multiple Denie...</td>\n",
       "      <td>SRC - L1</td>\n",
       "      <td>Omer Lakhmani</td>\n",
       "      <td>open</td>\n",
       "      <td>normal</td>\n",
       "      <td>Dec 26, 2023, 12:34 AM</td>\n",
       "      <td>Dec 26, 2023, 12:35 AM</td>\n",
       "      <td>web</td>\n",
       "      <td>Honda</td>\n",
       "      <td>cloud_provider_/_service__gcp_-_gke</td>\n",
       "      <td>medium</td>\n",
       "      <td>gcp</td>\n",
       "      <td>cloud_provider_/_service</td>\n",
       "      <td>NaN</td>\n",
       "    </tr>\n",
       "    <tr>\n",
       "      <th>4</th>\n",
       "      <td>5432</td>\n",
       "      <td>Volvo : GuardDuty - Medium Severity Event</td>\n",
       "      <td>SRC - L1</td>\n",
       "      <td>Omer Lakhmani</td>\n",
       "      <td>pending</td>\n",
       "      <td>normal</td>\n",
       "      <td>Dec 25, 2023, 10:55 PM</td>\n",
       "      <td>Dec 25, 2023, 10:55 PM</td>\n",
       "      <td>web</td>\n",
       "      <td>Volvo</td>\n",
       "      <td>cloud_provider_/_service__aws_guardduty</td>\n",
       "      <td>medium</td>\n",
       "      <td>aws_platform</td>\n",
       "      <td>cloud_provider_/_service</td>\n",
       "      <td>NaN</td>\n",
       "    </tr>\n",
       "  </tbody>\n",
       "</table>\n",
       "</div>"
      ],
      "text/plain": [
       "     id                                            subject  group_id  \\\n",
       "0  5437                                               spam  SRC - L1   \n",
       "1  5436   Infinity - SentinelOne - Black Hash is added/...  SRC - L1   \n",
       "2  5435         Suspicious email with malicious attachment  SRC - L1   \n",
       "3  5433  Honda - GCP GKE - User Attempts Multiple Denie...  SRC - L1   \n",
       "4  5432          Volvo : GuardDuty - Medium Severity Event  SRC - L1   \n",
       "\n",
       "    assigneeName   status priority              created_at  \\\n",
       "0     John brain     open      NaN  Dec 26, 2023, 01:35 AM   \n",
       "1      Nir Handa   solved   normal  Dec 26, 2023, 12:57 AM   \n",
       "2            NaN     open     high  Dec 26, 2023, 12:52 AM   \n",
       "3  Omer Lakhmani     open   normal  Dec 26, 2023, 12:34 AM   \n",
       "4  Omer Lakhmani  pending   normal  Dec 25, 2023, 10:55 PM   \n",
       "\n",
       "               updated_at channel organization_id  \\\n",
       "0  Dec 26, 2023, 01:36 AM     web   Microsoft SRC   \n",
       "1  Dec 26, 2023, 01:00 AM     web        Infinity   \n",
       "2  Dec 26, 2023, 12:59 AM     web           Bosch   \n",
       "3  Dec 26, 2023, 12:35 AM     web           Honda   \n",
       "4  Dec 25, 2023, 10:55 PM     web           Volvo   \n",
       "\n",
       "                                   Product Alert Severity Product Platform  \\\n",
       "0                                      NaN            NaN              NaN   \n",
       "1                    generic_/_other__temp         medium          on-prem   \n",
       "2                                      NaN            NaN              NaN   \n",
       "3      cloud_provider_/_service__gcp_-_gke         medium              gcp   \n",
       "4  cloud_provider_/_service__aws_guardduty         medium     aws_platform   \n",
       "\n",
       "           Product Category Customer First Response (UTC)  \n",
       "0                       NaN                           NaN  \n",
       "1       endpointsecurityedr          2023-12-26T09:00:33Z  \n",
       "2                       NaN                           NaN  \n",
       "3  cloud_provider_/_service                           NaN  \n",
       "4  cloud_provider_/_service                           NaN  "
      ]
     },
     "execution_count": 73,
     "metadata": {},
     "output_type": "execute_result"
    }
   ],
   "source": [
    "# Loading data\n",
    "df_initial = pd.read_csv('Reporting Analyst Task.csv')\n",
    "df = df_initial\n",
    "df.head()"
   ]
  },
  {
   "cell_type": "code",
   "execution_count": 74,
   "metadata": {},
   "outputs": [
    {
     "name": "stdout",
     "output_type": "stream",
     "text": [
      "<class 'pandas.core.frame.DataFrame'>\n",
      "RangeIndex: 5003 entries, 0 to 5002\n",
      "Data columns (total 15 columns):\n",
      " #   Column                         Non-Null Count  Dtype \n",
      "---  ------                         --------------  ----- \n",
      " 0   id                             5003 non-null   int64 \n",
      " 1   subject                        5003 non-null   object\n",
      " 2   group_id                       5003 non-null   object\n",
      " 3   assigneeName                   4939 non-null   object\n",
      " 4   status                         5003 non-null   object\n",
      " 5   priority                       4877 non-null   object\n",
      " 6   created_at                     5003 non-null   object\n",
      " 7   updated_at                     5003 non-null   object\n",
      " 8   channel                        5003 non-null   object\n",
      " 9   organization_id                4967 non-null   object\n",
      " 10  Product                        4419 non-null   object\n",
      " 11  Alert Severity                 4505 non-null   object\n",
      " 12  Product Platform               3110 non-null   object\n",
      " 13  Product Category               4599 non-null   object\n",
      " 14  Customer First Response (UTC)  502 non-null    object\n",
      "dtypes: int64(1), object(14)\n",
      "memory usage: 586.4+ KB\n"
     ]
    }
   ],
   "source": [
    "# Data description\n",
    "(df.info())"
   ]
  },
  {
   "cell_type": "markdown",
   "metadata": {},
   "source": [
    "#### Observations :\n",
    "1. Dataset contains total 14 fields\n",
    "2. Most of the fields are categorical.\n",
    "3. As variables 'created_at', 'updated_at', 'Customer First Response (UTC)' contains values in date and time format, data type for these variables needs to be updated to 'datetime'."
   ]
  },
  {
   "cell_type": "code",
   "execution_count": 75,
   "metadata": {},
   "outputs": [
    {
     "data": {
      "text/plain": [
       "0"
      ]
     },
     "execution_count": 75,
     "metadata": {},
     "output_type": "execute_result"
    }
   ],
   "source": [
    "# Checking for duplicate records in dataset\n",
    "(df.duplicated().sum())"
   ]
  },
  {
   "cell_type": "markdown",
   "metadata": {},
   "source": [
    "#### Observations :\n",
    "Dataset contains 0 duplicate records"
   ]
  },
  {
   "cell_type": "code",
   "execution_count": 76,
   "metadata": {},
   "outputs": [
    {
     "data": {
      "text/plain": [
       "assigneeName                       64\n",
       "priority                          126\n",
       "organization_id                    36\n",
       "Product                           584\n",
       "Alert Severity                    498\n",
       "Product Platform                 1893\n",
       "Product Category                  404\n",
       "Customer First Response (UTC)    4501\n",
       "dtype: int64"
      ]
     },
     "execution_count": 76,
     "metadata": {},
     "output_type": "execute_result"
    }
   ],
   "source": [
    "# Null Values count\n",
    "null_counts = df.isnull().sum()\n",
    "columns_with_nulls = null_counts[null_counts > 0]\n",
    "columns_with_nulls\n",
    "# (df.isnull().sum()/len(df)*100) -- Null value percentage"
   ]
  },
  {
   "cell_type": "markdown",
   "metadata": {},
   "source": [
    "#### Observation :\n",
    "Fields - 'assigneeName', 'priority', 'organization_id', 'Product', 'Alert Severity', 'Product Platform', 'Product Category', 'Customer First Response (UTC)' contains null values"
   ]
  },
  {
   "cell_type": "markdown",
   "metadata": {},
   "source": [
    "### Univariate Analysis and Null value imputation"
   ]
  },
  {
   "cell_type": "markdown",
   "metadata": {},
   "source": [
    "##### Variable - 'group_id'"
   ]
  },
  {
   "cell_type": "code",
   "execution_count": 77,
   "metadata": {},
   "outputs": [
    {
     "data": {
      "text/plain": [
       "group_id\n",
       "SRC - L1              4712\n",
       "Research               117\n",
       "DevOps                  99\n",
       "Orchestrator            48\n",
       "SRC - Global            12\n",
       "Management              11\n",
       "Apple Data Analyst       3\n",
       "SRC - L2                 1\n",
       "Name: count, dtype: int64"
      ]
     },
     "execution_count": 77,
     "metadata": {},
     "output_type": "execute_result"
    }
   ],
   "source": [
    "(df['group_id'].value_counts(dropna = False)) ## Checking unique vales"
   ]
  },
  {
   "cell_type": "markdown",
   "metadata": {},
   "source": [
    "-- Variable 'group_id' looks fine and no updates required for this variable."
   ]
  },
  {
   "cell_type": "markdown",
   "metadata": {},
   "source": [
    "##### Variable - 'assigneeName'"
   ]
  },
  {
   "cell_type": "code",
   "execution_count": 78,
   "metadata": {},
   "outputs": [
    {
     "data": {
      "text/plain": [
       "assigneeName\n",
       "Gil Kamalakannan            848\n",
       "Ben Chauhan                 598\n",
       "Danna Sival                 526\n",
       "Zack Kumar                  496\n",
       "keren Mishra                438\n",
       "Omer Lakhmani               425\n",
       "Avi Golovaty                374\n",
       "Anna bansal                 233\n",
       "Nir Handa                   174\n",
       "Rahul Parashar              154\n",
       "Avi Singh                   132\n",
       "John brain                  114\n",
       "Ella Gahlot                  88\n",
       "NaN                          64\n",
       "Anna Gilad                   59\n",
       "Nir Limor                    52\n",
       "Dor Tiwari                   51\n",
       "Apple SRC - Orchestrator     48\n",
       "Ariel Ainhoren               25\n",
       "Shir Mehra                   17\n",
       "Michael Modi                 16\n",
       "Ben Rastogi                  16\n",
       "Nitai Ben Shaul              12\n",
       "Puneet Khandelwal            12\n",
       "Hetram Yadav                 11\n",
       "Daniel Kerman                10\n",
       "Alex Kushnarev                5\n",
       "Sri Ram Jha                   3\n",
       "Ofir Levin                    2\n",
       "Name: count, dtype: int64"
      ]
     },
     "execution_count": 78,
     "metadata": {},
     "output_type": "execute_result"
    }
   ],
   "source": [
    "(df['assigneeName'].value_counts(dropna = False)) ## Checking unique vales"
   ]
  },
  {
   "cell_type": "markdown",
   "metadata": {},
   "source": [
    "- Null values for 'assigneeName' can be assigned as 'Not Applicable'"
   ]
  },
  {
   "cell_type": "code",
   "execution_count": 79,
   "metadata": {},
   "outputs": [
    {
     "data": {
      "text/plain": [
       "assigneeName\n",
       "Gil Kamalakannan            848\n",
       "Ben Chauhan                 598\n",
       "Danna Sival                 526\n",
       "Zack Kumar                  496\n",
       "keren Mishra                438\n",
       "Omer Lakhmani               425\n",
       "Avi Golovaty                374\n",
       "Anna bansal                 233\n",
       "Nir Handa                   174\n",
       "Rahul Parashar              154\n",
       "Avi Singh                   132\n",
       "John brain                  114\n",
       "Ella Gahlot                  88\n",
       "Not Applicable               64\n",
       "Anna Gilad                   59\n",
       "Nir Limor                    52\n",
       "Dor Tiwari                   51\n",
       "Apple SRC - Orchestrator     48\n",
       "Ariel Ainhoren               25\n",
       "Shir Mehra                   17\n",
       "Michael Modi                 16\n",
       "Ben Rastogi                  16\n",
       "Nitai Ben Shaul              12\n",
       "Puneet Khandelwal            12\n",
       "Hetram Yadav                 11\n",
       "Daniel Kerman                10\n",
       "Alex Kushnarev                5\n",
       "Sri Ram Jha                   3\n",
       "Ofir Levin                    2\n",
       "Name: count, dtype: int64"
      ]
     },
     "execution_count": 79,
     "metadata": {},
     "output_type": "execute_result"
    }
   ],
   "source": [
    "df['assigneeName'] = df['assigneeName'].fillna('Not Applicable') ## Fill up Null values as \"Not Applicable\"\n",
    "(df['assigneeName'].value_counts(dropna = False))"
   ]
  },
  {
   "cell_type": "markdown",
   "metadata": {},
   "source": [
    "##### Variable - 'status'"
   ]
  },
  {
   "cell_type": "code",
   "execution_count": 80,
   "metadata": {},
   "outputs": [
    {
     "data": {
      "text/plain": [
       "status\n",
       "closed     4784\n",
       "pending     109\n",
       "open         60\n",
       "solved       26\n",
       "new          15\n",
       "hold          9\n",
       "Name: count, dtype: int64"
      ]
     },
     "execution_count": 80,
     "metadata": {},
     "output_type": "execute_result"
    }
   ],
   "source": [
    "(df['status'].value_counts(dropna = False)) ## Checking unique vales"
   ]
  },
  {
   "cell_type": "markdown",
   "metadata": {},
   "source": [
    "- Variable 'status' looks fine and no updates required for this variable."
   ]
  },
  {
   "cell_type": "markdown",
   "metadata": {},
   "source": [
    "##### Variable - 'priority'"
   ]
  },
  {
   "cell_type": "code",
   "execution_count": 81,
   "metadata": {},
   "outputs": [
    {
     "data": {
      "text/plain": [
       "priority\n",
       "high      2867\n",
       "normal    1727\n",
       "low        222\n",
       "NaN        126\n",
       "urgent      61\n",
       "Name: count, dtype: int64"
      ]
     },
     "execution_count": 81,
     "metadata": {},
     "output_type": "execute_result"
    }
   ],
   "source": [
    "(df['priority'].value_counts(dropna = False)) ## Checking unique vales"
   ]
  },
  {
   "cell_type": "markdown",
   "metadata": {},
   "source": [
    "- Null values for this variable can be assigned as 'Not defined'"
   ]
  },
  {
   "cell_type": "code",
   "execution_count": 82,
   "metadata": {},
   "outputs": [
    {
     "data": {
      "text/plain": [
       "priority\n",
       "high           2867\n",
       "normal         1727\n",
       "low             222\n",
       "Not defined     126\n",
       "urgent           61\n",
       "Name: count, dtype: int64"
      ]
     },
     "execution_count": 82,
     "metadata": {},
     "output_type": "execute_result"
    }
   ],
   "source": [
    "df['priority'] = df['priority'].fillna('Not defined')\n",
    "(df['priority'].value_counts(dropna = False))"
   ]
  },
  {
   "cell_type": "markdown",
   "metadata": {},
   "source": [
    "##### Variable - 'created_at'"
   ]
  },
  {
   "cell_type": "markdown",
   "metadata": {},
   "source": [
    "- As this variable only conatins date and time, data type for this variable should be datetime "
   ]
  },
  {
   "cell_type": "code",
   "execution_count": 83,
   "metadata": {},
   "outputs": [
    {
     "data": {
      "text/plain": [
       "0      2023-12-26 01:35:00\n",
       "1      2023-12-26 00:57:00\n",
       "2      2023-12-26 00:52:00\n",
       "3      2023-12-26 00:34:00\n",
       "4      2023-12-25 22:55:00\n",
       "               ...        \n",
       "4998   2022-06-07 01:53:00\n",
       "4999   2022-06-04 23:38:00\n",
       "5000   2022-05-24 06:53:00\n",
       "5001   2022-04-23 23:54:00\n",
       "5002   2022-03-21 04:23:00\n",
       "Name: created_at, Length: 5003, dtype: datetime64[ns]"
      ]
     },
     "execution_count": 83,
     "metadata": {},
     "output_type": "execute_result"
    }
   ],
   "source": [
    "df['created_at'] = pd.to_datetime(df['created_at']) ## changing datatype to datetime\n",
    "(df['created_at'])"
   ]
  },
  {
   "cell_type": "markdown",
   "metadata": {},
   "source": [
    "##### Variable - 'updated_at'"
   ]
  },
  {
   "cell_type": "markdown",
   "metadata": {},
   "source": [
    "- As this also variable only conatins date and time, data type for this variable should be datetime "
   ]
  },
  {
   "cell_type": "code",
   "execution_count": 84,
   "metadata": {},
   "outputs": [
    {
     "data": {
      "text/plain": [
       "0      2023-12-26 01:36:00\n",
       "1      2023-12-26 01:00:00\n",
       "2      2023-12-26 00:59:00\n",
       "3      2023-12-26 00:35:00\n",
       "4      2023-12-25 22:55:00\n",
       "               ...        \n",
       "4998   2022-08-13 05:04:00\n",
       "4999   2022-08-11 07:04:00\n",
       "5000   2022-09-21 02:04:00\n",
       "5001   2022-04-28 00:02:00\n",
       "5002   2022-09-21 02:04:00\n",
       "Name: updated_at, Length: 5003, dtype: datetime64[ns]"
      ]
     },
     "execution_count": 84,
     "metadata": {},
     "output_type": "execute_result"
    }
   ],
   "source": [
    "df['updated_at']=pd.to_datetime(df['updated_at']) ## changing datatype to datetime\n",
    "(df['updated_at'])"
   ]
  },
  {
   "cell_type": "markdown",
   "metadata": {},
   "source": [
    "##### Variable - 'channel'"
   ]
  },
  {
   "cell_type": "code",
   "execution_count": 85,
   "metadata": {},
   "outputs": [
    {
     "data": {
      "text/plain": [
       "channel\n",
       "web                  4933\n",
       "api                    48\n",
       "email                  13\n",
       "side_conversation       7\n",
       "voice                   1\n",
       "sample_ticket           1\n",
       "Name: count, dtype: int64"
      ]
     },
     "execution_count": 85,
     "metadata": {},
     "output_type": "execute_result"
    }
   ],
   "source": [
    "(df['channel'].value_counts(dropna = False)) ## Checking unique vales"
   ]
  },
  {
   "cell_type": "markdown",
   "metadata": {},
   "source": [
    "- Most of the tickets are form 'web' channel\n",
    "- Channels 'voice' and 'sample_ticket' have one ticket each and enough information also not available for these variables. Records with channels 'voice' and 'sample_ticket' can be dropped from the table as these are present as outliers in dataset and might impact analysis"
   ]
  },
  {
   "cell_type": "code",
   "execution_count": 86,
   "metadata": {},
   "outputs": [
    {
     "data": {
      "text/html": [
       "<div>\n",
       "<style scoped>\n",
       "    .dataframe tbody tr th:only-of-type {\n",
       "        vertical-align: middle;\n",
       "    }\n",
       "\n",
       "    .dataframe tbody tr th {\n",
       "        vertical-align: top;\n",
       "    }\n",
       "\n",
       "    .dataframe thead th {\n",
       "        text-align: right;\n",
       "    }\n",
       "</style>\n",
       "<table border=\"1\" class=\"dataframe\">\n",
       "  <thead>\n",
       "    <tr style=\"text-align: right;\">\n",
       "      <th></th>\n",
       "      <th>id</th>\n",
       "      <th>subject</th>\n",
       "      <th>group_id</th>\n",
       "      <th>assigneeName</th>\n",
       "      <th>status</th>\n",
       "      <th>priority</th>\n",
       "      <th>created_at</th>\n",
       "      <th>updated_at</th>\n",
       "      <th>channel</th>\n",
       "      <th>organization_id</th>\n",
       "      <th>Product</th>\n",
       "      <th>Alert Severity</th>\n",
       "      <th>Product Platform</th>\n",
       "      <th>Product Category</th>\n",
       "      <th>Customer First Response (UTC)</th>\n",
       "    </tr>\n",
       "  </thead>\n",
       "  <tbody>\n",
       "    <tr>\n",
       "      <th>4999</th>\n",
       "      <td>27</td>\n",
       "      <td>Missed call from Caller +1 (904) 587-1588</td>\n",
       "      <td>SRC - L1</td>\n",
       "      <td>John brain</td>\n",
       "      <td>closed</td>\n",
       "      <td>Not defined</td>\n",
       "      <td>2022-06-04 23:38:00</td>\n",
       "      <td>2022-08-11 07:04:00</td>\n",
       "      <td>voice</td>\n",
       "      <td>NaN</td>\n",
       "      <td>NaN</td>\n",
       "      <td>NaN</td>\n",
       "      <td>NaN</td>\n",
       "      <td>NaN</td>\n",
       "      <td>NaN</td>\n",
       "    </tr>\n",
       "    <tr>\n",
       "      <th>5002</th>\n",
       "      <td>1</td>\n",
       "      <td>Sample ticket: Meet the ticket</td>\n",
       "      <td>SRC - L1</td>\n",
       "      <td>Ofir Levin</td>\n",
       "      <td>closed</td>\n",
       "      <td>normal</td>\n",
       "      <td>2022-03-21 04:23:00</td>\n",
       "      <td>2022-09-21 02:04:00</td>\n",
       "      <td>sample_ticket</td>\n",
       "      <td>NaN</td>\n",
       "      <td>NaN</td>\n",
       "      <td>NaN</td>\n",
       "      <td>NaN</td>\n",
       "      <td>NaN</td>\n",
       "      <td>NaN</td>\n",
       "    </tr>\n",
       "  </tbody>\n",
       "</table>\n",
       "</div>"
      ],
      "text/plain": [
       "      id                                    subject  group_id assigneeName  \\\n",
       "4999  27  Missed call from Caller +1 (904) 587-1588  SRC - L1   John brain   \n",
       "5002   1             Sample ticket: Meet the ticket  SRC - L1   Ofir Levin   \n",
       "\n",
       "      status     priority          created_at          updated_at  \\\n",
       "4999  closed  Not defined 2022-06-04 23:38:00 2022-08-11 07:04:00   \n",
       "5002  closed       normal 2022-03-21 04:23:00 2022-09-21 02:04:00   \n",
       "\n",
       "            channel organization_id Product Alert Severity Product Platform  \\\n",
       "4999          voice             NaN     NaN            NaN              NaN   \n",
       "5002  sample_ticket             NaN     NaN            NaN              NaN   \n",
       "\n",
       "     Product Category Customer First Response (UTC)  \n",
       "4999              NaN                           NaN  \n",
       "5002              NaN                           NaN  "
      ]
     },
     "execution_count": 86,
     "metadata": {},
     "output_type": "execute_result"
    }
   ],
   "source": [
    "(df[df['channel'].isin(['voice', 'sample_ticket'])])"
   ]
  },
  {
   "cell_type": "markdown",
   "metadata": {},
   "source": [
    "##### Varibale - 'organization_id'"
   ]
  },
  {
   "cell_type": "code",
   "execution_count": 87,
   "metadata": {},
   "outputs": [
    {
     "data": {
      "text/plain": [
       "organization_id\n",
       "Bosch                      1048\n",
       "Infinity                    999\n",
       "FOX                         949\n",
       "Mazda                       320\n",
       "Suzuki                      202\n",
       "Volvo                       160\n",
       "Jeep                        130\n",
       "Simon                       119\n",
       "Toyota                      106\n",
       "Subaru                      101\n",
       "Saas BV                      78\n",
       "Microsoft Research           72\n",
       "Honda                        71\n",
       "Castro                       69\n",
       "Apple                        61\n",
       "Jupiter-Money                52\n",
       "Microsoft SRC                40\n",
       "Splitit                      37\n",
       "NaN                          36\n",
       "BMW                          31\n",
       "Microsoft DevOps             30\n",
       "Ford                         29\n",
       "Akamai                       27\n",
       "AAA                          25\n",
       "KIA                          24\n",
       "Nomu Pay                     22\n",
       "Angel One                    20\n",
       "Getuwired                    20\n",
       "Microsoft                    20\n",
       "Apple Data Analyst           18\n",
       "Kreditbee                    15\n",
       "MAC Finance Ltd              11\n",
       "NISSAN                       11\n",
       "FOX-test-Don't use!!!        10\n",
       "Aeries Software              10\n",
       "Bosch-test-Don't use!!!       9\n",
       "Microsoft OKTA                7\n",
       "Cohen                         7\n",
       "Avi-test                      6\n",
       "Yuval_Khalifa                 1\n",
       "Name: count, dtype: int64"
      ]
     },
     "execution_count": 87,
     "metadata": {},
     "output_type": "execute_result"
    }
   ],
   "source": [
    "(df['organization_id'].value_counts(dropna = False))"
   ]
  },
  {
   "cell_type": "markdown",
   "metadata": {},
   "source": [
    "- Null values for this variable can be categorized as 'Not available'\n",
    "- Values 'Microsoft', 'Microsoft Research', 'Microsoft SRC' , 'Microsoft DevOps', 'Microsoft OKTA' are of same organization and can be categorized under same group.\n",
    "- Values 'Apple', 'Apple Data Analyst' are of same organization and can be categorized under same group.\n",
    "- Values 'FOX' and 'FOX-test-Don't use!!!' are of same organization and can be categorized under same group.\n",
    "- Values 'Bosch' and 'Bosch-test-Don't use!!!' are of same organization and can be categorized under same group."
   ]
  },
  {
   "cell_type": "code",
   "execution_count": 88,
   "metadata": {},
   "outputs": [
    {
     "data": {
      "text/plain": [
       "organization_id\n",
       "Bosch              1057\n",
       "Infinity            999\n",
       "FOX                 959\n",
       "Mazda               320\n",
       "Suzuki              202\n",
       "Microsoft           169\n",
       "Volvo               160\n",
       "Jeep                130\n",
       "Simon               119\n",
       "Toyota              106\n",
       "Subaru              101\n",
       "Apple                79\n",
       "Saas BV              78\n",
       "Honda                71\n",
       "Castro               69\n",
       "Jupiter-Money        52\n",
       "Splitit              37\n",
       "Not available        36\n",
       "BMW                  31\n",
       "Ford                 29\n",
       "Akamai               27\n",
       "AAA                  25\n",
       "KIA                  24\n",
       "Nomu Pay             22\n",
       "Getuwired            20\n",
       "Angel One            20\n",
       "Kreditbee            15\n",
       "MAC Finance Ltd      11\n",
       "NISSAN               11\n",
       "Aeries Software      10\n",
       "Cohen                 7\n",
       "Avi-test              6\n",
       "Yuval_Khalifa         1\n",
       "Name: count, dtype: int64"
      ]
     },
     "execution_count": 88,
     "metadata": {},
     "output_type": "execute_result"
    }
   ],
   "source": [
    "df['organization_id'] = df['organization_id'].fillna('Not available')\n",
    "df['organization_id'] = df['organization_id'].replace(to_replace=['Microsoft', 'Microsoft Research', 'Microsoft SRC' , 'Microsoft DevOps', 'Microsoft OKTA'], value = 'Microsoft')\n",
    "df['organization_id'] = df['organization_id'].replace(to_replace=['Apple', 'Apple Data Analyst'], value = 'Apple')\n",
    "df['organization_id'] = df['organization_id'].replace(to_replace=[\"FOX-test-Don't use!!!\"], value = 'FOX')\n",
    "df['organization_id'] = df['organization_id'].replace(to_replace=[\"Bosch-test-Don't use!!!\"], value = 'Bosch')\n",
    "(df['organization_id'].value_counts(dropna = False))\n"
   ]
  },
  {
   "cell_type": "markdown",
   "metadata": {},
   "source": [
    "- Most of the tickets from organization 'Bosch', 'Infinity' and 'FOX'."
   ]
  },
  {
   "cell_type": "markdown",
   "metadata": {},
   "source": [
    "##### Variable - 'Alert Severity'"
   ]
  },
  {
   "cell_type": "code",
   "execution_count": 89,
   "metadata": {},
   "outputs": [
    {
     "data": {
      "text/plain": [
       "Alert Severity\n",
       "medium      2075\n",
       "high        1501\n",
       "NaN          498\n",
       "critical     423\n",
       "low          323\n",
       "normal       159\n",
       "medium_       17\n",
       "urgent         7\n",
       "Name: count, dtype: int64"
      ]
     },
     "execution_count": 89,
     "metadata": {},
     "output_type": "execute_result"
    }
   ],
   "source": [
    "(df['Alert Severity'].value_counts(dropna = False))"
   ]
  },
  {
   "cell_type": "markdown",
   "metadata": {},
   "source": [
    "- Null values can be categorised as \"Not defined\"\n",
    "- 'medium' and 'medium_' values have same meaning and can be categorized under same group."
   ]
  },
  {
   "cell_type": "code",
   "execution_count": 90,
   "metadata": {},
   "outputs": [
    {
     "data": {
      "text/plain": [
       "Alert Severity\n",
       "medium         2092\n",
       "high           1501\n",
       "Not defined     498\n",
       "critical        423\n",
       "low             323\n",
       "normal          159\n",
       "urgent            7\n",
       "Name: count, dtype: int64"
      ]
     },
     "execution_count": 90,
     "metadata": {},
     "output_type": "execute_result"
    }
   ],
   "source": [
    "df['Alert Severity'] = df['Alert Severity'].fillna('Not defined')\n",
    "df['Alert Severity'] = df['Alert Severity'].str.replace('medium_','medium')\n",
    "(df['Alert Severity'].value_counts(dropna = False))"
   ]
  },
  {
   "cell_type": "markdown",
   "metadata": {},
   "source": [
    "- Most tickets are of 'medium' alert severity"
   ]
  },
  {
   "cell_type": "markdown",
   "metadata": {},
   "source": [
    "##### Variable - 'Product Category'"
   ]
  },
  {
   "cell_type": "code",
   "execution_count": 91,
   "metadata": {},
   "outputs": [
    {
     "data": {
      "text/plain": [
       "Product Category\n",
       "cloud_provider_/_service            1402\n",
       "identity_and_access_management       782\n",
       "endpointsecurityedr                  519\n",
       "NaN                                  404\n",
       "Apple                                391\n",
       "Microsoft                            335\n",
       "vulnerability_management             206\n",
       "firewallsandsecuritygroups           187\n",
       "aws                                  172\n",
       "generic_/_other                      155\n",
       "ids_/_ips                            103\n",
       "productivity                          98\n",
       "waf_and_ddos_protection_services      98\n",
       "email_security                        40\n",
       "crowdstrike1                          32\n",
       "dns_services                          23\n",
       "threat_intelligence                   13\n",
       "databases_and_database_security       11\n",
       "encryption_and_vpn_software           11\n",
       "azure                                  7\n",
       "code_repositories                      3\n",
       "serverless                             2\n",
       "log_aggregators_and_siem_systems       2\n",
       "virtualization                         2\n",
       "posture_management                     2\n",
       "security_scanners                      1\n",
       "datadog1                               1\n",
       "on-prem                                1\n",
       "Name: count, dtype: int64"
      ]
     },
     "execution_count": 91,
     "metadata": {},
     "output_type": "execute_result"
    }
   ],
   "source": [
    "(df['Product Category'].value_counts(dropna = False))"
   ]
  },
  {
   "cell_type": "markdown",
   "metadata": {},
   "source": [
    "- Null values for 'Product Category' can be assigned as 'Uncategorized'"
   ]
  },
  {
   "cell_type": "code",
   "execution_count": 92,
   "metadata": {},
   "outputs": [
    {
     "data": {
      "text/plain": [
       "Product Category\n",
       "cloud_provider_/_service            1402\n",
       "identity_and_access_management       782\n",
       "endpointsecurityedr                  519\n",
       "Uncategorized                        404\n",
       "Apple                                391\n",
       "Microsoft                            335\n",
       "vulnerability_management             206\n",
       "firewallsandsecuritygroups           187\n",
       "aws                                  172\n",
       "generic_/_other                      155\n",
       "ids_/_ips                            103\n",
       "productivity                          98\n",
       "waf_and_ddos_protection_services      98\n",
       "email_security                        40\n",
       "crowdstrike1                          32\n",
       "dns_services                          23\n",
       "threat_intelligence                   13\n",
       "databases_and_database_security       11\n",
       "encryption_and_vpn_software           11\n",
       "azure                                  7\n",
       "code_repositories                      3\n",
       "serverless                             2\n",
       "log_aggregators_and_siem_systems       2\n",
       "virtualization                         2\n",
       "posture_management                     2\n",
       "security_scanners                      1\n",
       "datadog1                               1\n",
       "on-prem                                1\n",
       "Name: count, dtype: int64"
      ]
     },
     "execution_count": 92,
     "metadata": {},
     "output_type": "execute_result"
    }
   ],
   "source": [
    "df['Product Category'] = df['Product Category'].fillna('Uncategorized') ## Imputing Null values as 'Uncategorized'\n",
    "(df['Product Category'].value_counts(dropna = False))"
   ]
  },
  {
   "cell_type": "markdown",
   "metadata": {},
   "source": [
    "##### Variable - 'Product'"
   ]
  },
  {
   "cell_type": "code",
   "execution_count": 93,
   "metadata": {},
   "outputs": [
    {
     "data": {
      "text/plain": [
       "Product\n",
       "NaN                                          584\n",
       "identity_and_access_management__jumpcloud    424\n",
       "Microsoft                                    312\n",
       "cloud_provider_/_service__aws_guardduty      310\n",
       "endpoint_security__edr___crowdstrike         289\n",
       "                                            ... \n",
       "Microsoft__integration_/_3rd_party             1\n",
       "gcp__gcp_-_security_command_center             1\n",
       "cloud_provider_/_service__gcp_-_gke            1\n",
       "gcp__gcp_-_gce                                 1\n",
       "log_aggregators_and_siem_systems__temp         1\n",
       "Name: count, Length: 100, dtype: int64"
      ]
     },
     "execution_count": 93,
     "metadata": {},
     "output_type": "execute_result"
    }
   ],
   "source": [
    "(df['Product'].value_counts(dropna = False))"
   ]
  },
  {
   "cell_type": "markdown",
   "metadata": {},
   "source": [
    "- Product is not avaibale for many tickests.\n",
    "- Null values of Product variable can be categorized as 'Unknown'"
   ]
  },
  {
   "cell_type": "code",
   "execution_count": 94,
   "metadata": {},
   "outputs": [
    {
     "data": {
      "text/plain": [
       "Product\n",
       "Unknown                                      584\n",
       "identity_and_access_management__jumpcloud    424\n",
       "Microsoft                                    312\n",
       "cloud_provider_/_service__aws_guardduty      310\n",
       "endpoint_security__edr___crowdstrike         289\n",
       "                                            ... \n",
       "Microsoft__integration_/_3rd_party             1\n",
       "gcp__gcp_-_security_command_center             1\n",
       "cloud_provider_/_service__gcp_-_gke            1\n",
       "gcp__gcp_-_gce                                 1\n",
       "log_aggregators_and_siem_systems__temp         1\n",
       "Name: count, Length: 100, dtype: int64"
      ]
     },
     "execution_count": 94,
     "metadata": {},
     "output_type": "execute_result"
    }
   ],
   "source": [
    "df['Product']=df['Product'].fillna('Unknown') ## Imputing Null values as 'Unknown'\n",
    "(df['Product'].value_counts(dropna = False))"
   ]
  },
  {
   "cell_type": "markdown",
   "metadata": {},
   "source": [
    "##### Variable - 'Product Platform'"
   ]
  },
  {
   "cell_type": "code",
   "execution_count": 95,
   "metadata": {},
   "outputs": [
    {
     "data": {
      "text/plain": [
       "Product Platform\n",
       "NaN                           1893\n",
       "aws_platform                  1740\n",
       "on-prem                        360\n",
       "azure                          265\n",
       "end_point_operating_system     255\n",
       "Microsoft_platfrom             190\n",
       "google_workspace               118\n",
       "gcp                             85\n",
       "Microsoftplatform               76\n",
       "integration                     13\n",
       "ui                               8\n",
       "Name: count, dtype: int64"
      ]
     },
     "execution_count": 95,
     "metadata": {},
     "output_type": "execute_result"
    }
   ],
   "source": [
    "(df['Product Platform'].value_counts(dropna = False))"
   ]
  },
  {
   "cell_type": "markdown",
   "metadata": {},
   "source": [
    "- Most of the values in 'Product Platform' are Null and can be assigned as 'Unknown'\n",
    "- values 'Microsoft_platfrom' and 'Microsoftplatform' are same and can be categorized under same group."
   ]
  },
  {
   "cell_type": "code",
   "execution_count": 96,
   "metadata": {},
   "outputs": [
    {
     "data": {
      "text/plain": [
       "Product Platform\n",
       "Unknown                       1893\n",
       "aws_platform                  1740\n",
       "on-prem                        360\n",
       "Microsoft_platfrom             266\n",
       "azure                          265\n",
       "end_point_operating_system     255\n",
       "google_workspace               118\n",
       "gcp                             85\n",
       "integration                     13\n",
       "ui                               8\n",
       "Name: count, dtype: int64"
      ]
     },
     "execution_count": 96,
     "metadata": {},
     "output_type": "execute_result"
    }
   ],
   "source": [
    "df['Product Platform']=df['Product Platform'].fillna('Unknown') ## Imputing Null value as 'Unknown'\n",
    "df['Product Platform']=df['Product Platform'].str.replace('Microsoftplatform','Microsoft_platfrom')\n",
    "(df['Product Platform'].value_counts(dropna = False))"
   ]
  },
  {
   "cell_type": "markdown",
   "metadata": {},
   "source": [
    "##### Variable - 'Customer First Response (UTC)'"
   ]
  },
  {
   "cell_type": "code",
   "execution_count": 97,
   "metadata": {},
   "outputs": [
    {
     "data": {
      "text/plain": [
       "Customer First Response (UTC)\n",
       "NaN                                     4501\n",
       "2023-10-05T03:42:47Z                       3\n",
       "2023-09-19T17:01:06Z                       2\n",
       "2023-11-09T04:34:27Z                       2\n",
       "2023-09-14T05:34:47Z                       1\n",
       "                                        ... \n",
       "2023-11-01T23:35:08Z                       1\n",
       "2023-11-01T15:28:07Z                       1\n",
       "2023-11-02T07:32:07Z                       1\n",
       "2023-11-01T15:05:53Z                       1\n",
       "{{ticket.updated_at_with_timestamp}}       1\n",
       "Name: count, Length: 499, dtype: int64"
      ]
     },
     "execution_count": 97,
     "metadata": {},
     "output_type": "execute_result"
    }
   ],
   "source": [
    "(df['Customer First Response (UTC)'].value_counts(dropna = False)) ## Counting unique values"
   ]
  },
  {
   "cell_type": "markdown",
   "metadata": {},
   "source": [
    "- 'Customer First Response (UTC)' variable contains most of the values in date and time format, but also conatins some values in string format.\n",
    "Ignoring values in string and chnaging the datatype of this variable from object to datetime.\n",
    "- Leaving Null values as blank for this variable , its not ideal to impute dates based on assumption."
   ]
  },
  {
   "cell_type": "code",
   "execution_count": 98,
   "metadata": {},
   "outputs": [
    {
     "data": {
      "text/plain": [
       "datetime64[ns, UTC]"
      ]
     },
     "execution_count": 98,
     "metadata": {},
     "output_type": "execute_result"
    }
   ],
   "source": [
    "df['Customer First Response (UTC)']=pd.to_datetime(df['Customer First Response (UTC)'],errors=\"coerce\") ## Changing data type from object to 'datetime'\n",
    "df['Customer First Response (UTC)'].dtype"
   ]
  },
  {
   "cell_type": "markdown",
   "metadata": {},
   "source": [
    "#### Dropping records having channel as 'voice' and 'sample_ticket' from final dataset"
   ]
  },
  {
   "cell_type": "code",
   "execution_count": 99,
   "metadata": {},
   "outputs": [
    {
     "data": {
      "text/plain": [
       "channel\n",
       "web                  4933\n",
       "api                    48\n",
       "email                  13\n",
       "side_conversation       7\n",
       "Name: count, dtype: int64"
      ]
     },
     "execution_count": 99,
     "metadata": {},
     "output_type": "execute_result"
    }
   ],
   "source": [
    "df_final = df[~df['channel'].isin(['voice', 'sample_ticket'])]\n",
    "df_final['channel'].value_counts()"
   ]
  },
  {
   "cell_type": "code",
   "execution_count": 109,
   "metadata": {},
   "outputs": [
    {
     "name": "stdout",
     "output_type": "stream",
     "text": [
      "<class 'pandas.core.frame.DataFrame'>\n",
      "Index: 5001 entries, 0 to 5001\n",
      "Data columns (total 15 columns):\n",
      " #   Column                         Non-Null Count  Dtype              \n",
      "---  ------                         --------------  -----              \n",
      " 0   id                             5001 non-null   int64              \n",
      " 1   subject                        5001 non-null   object             \n",
      " 2   group_id                       5001 non-null   object             \n",
      " 3   assigneeName                   5001 non-null   object             \n",
      " 4   status                         5001 non-null   object             \n",
      " 5   priority                       5001 non-null   object             \n",
      " 6   created_at                     5001 non-null   datetime64[ns]     \n",
      " 7   updated_at                     5001 non-null   datetime64[ns]     \n",
      " 8   channel                        5001 non-null   object             \n",
      " 9   organization_id                5001 non-null   object             \n",
      " 10  Product                        5001 non-null   object             \n",
      " 11  Alert Severity                 5001 non-null   object             \n",
      " 12  Product Platform               5001 non-null   object             \n",
      " 13  Product Category               5001 non-null   object             \n",
      " 14  Customer First Response (UTC)  497 non-null    datetime64[ns, UTC]\n",
      "dtypes: datetime64[ns, UTC](1), datetime64[ns](2), int64(1), object(11)\n",
      "memory usage: 625.1+ KB\n"
     ]
    }
   ],
   "source": [
    "df_final.info()"
   ]
  },
  {
   "cell_type": "markdown",
   "metadata": {},
   "source": [
    "#### Exporting final dataset for analysis"
   ]
  },
  {
   "cell_type": "code",
   "execution_count": null,
   "metadata": {},
   "outputs": [],
   "source": [
    "#df_final.to_csv(\"Reporting Analyst Task_final.csv\",index=False)"
   ]
  }
 ],
 "metadata": {
  "kernelspec": {
   "display_name": "Python 3",
   "language": "python",
   "name": "python3"
  },
  "language_info": {
   "codemirror_mode": {
    "name": "ipython",
    "version": 3
   },
   "file_extension": ".py",
   "mimetype": "text/x-python",
   "name": "python",
   "nbconvert_exporter": "python",
   "pygments_lexer": "ipython3",
   "version": "3.12.4"
  }
 },
 "nbformat": 4,
 "nbformat_minor": 2
}
